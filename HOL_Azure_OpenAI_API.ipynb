{
  "cells": [
    {
      "cell_type": "code",
      "execution_count": 1,
      "metadata": {
        "colab": {
          "base_uri": "https://localhost:8080/"
        },
        "id": "yFaypRFxI-SG",
        "outputId": "f0fa69c4-ce75-47d9-d521-51d7ebfbcf49"
      },
      "outputs": [
        {
          "name": "stdout",
          "output_type": "stream",
          "text": [
            "Collecting AzureOpenAI\n",
            "  Downloading azureopenai-0.0.1-py2.py3-none-any.whl (966 bytes)\n",
            "Collecting aiohttp\n",
            "  Downloading aiohttp-3.9.1-cp38-cp38-win_amd64.whl (367 kB)\n",
            "Requirement already satisfied: requests in c:\\users\\twdav\\appdata\\local\\packages\\pythonsoftwarefoundation.python.3.8_qbz5n2kfra8p0\\localcache\\local-packages\\python38\\site-packages (from AzureOpenAI) (2.25.1)\n",
            "Collecting jsonschema\n",
            "  Downloading jsonschema-4.21.1-py3-none-any.whl (85 kB)\n",
            "Collecting frozenlist>=1.1.1\n",
            "  Downloading frozenlist-1.4.1-cp38-cp38-win_amd64.whl (50 kB)\n",
            "Collecting attrs>=17.3.0\n",
            "  Downloading attrs-23.2.0-py3-none-any.whl (60 kB)\n",
            "Collecting yarl<2.0,>=1.0\n",
            "  Downloading yarl-1.9.4-cp38-cp38-win_amd64.whl (77 kB)\n",
            "Collecting async-timeout<5.0,>=4.0\n",
            "  Downloading async_timeout-4.0.3-py3-none-any.whl (5.7 kB)\n",
            "Collecting multidict<7.0,>=4.5\n",
            "  Downloading multidict-6.0.4-cp38-cp38-win_amd64.whl (28 kB)\n",
            "Collecting aiosignal>=1.1.2\n",
            "  Downloading aiosignal-1.3.1-py3-none-any.whl (7.6 kB)\n",
            "Requirement already satisfied: idna>=2.0 in c:\\users\\twdav\\appdata\\local\\packages\\pythonsoftwarefoundation.python.3.8_qbz5n2kfra8p0\\localcache\\local-packages\\python38\\site-packages (from yarl<2.0,>=1.0->aiohttp->AzureOpenAI) (2.10)\n",
            "Collecting jsonschema-specifications>=2023.03.6\n",
            "  Downloading jsonschema_specifications-2023.12.1-py3-none-any.whl (18 kB)\n",
            "Collecting referencing>=0.28.4\n",
            "  Downloading referencing-0.32.1-py3-none-any.whl (26 kB)\n",
            "Collecting rpds-py>=0.7.1\n",
            "  Downloading rpds_py-0.17.1-cp38-none-win_amd64.whl (205 kB)\n",
            "Collecting importlib-resources>=1.4.0\n",
            "  Downloading importlib_resources-6.1.1-py3-none-any.whl (33 kB)\n",
            "Collecting pkgutil-resolve-name>=1.3.10\n",
            "  Downloading pkgutil_resolve_name-1.3.10-py3-none-any.whl (4.7 kB)\n",
            "Requirement already satisfied: zipp>=3.1.0 in c:\\users\\twdav\\appdata\\local\\packages\\pythonsoftwarefoundation.python.3.8_qbz5n2kfra8p0\\localcache\\local-packages\\python38\\site-packages (from importlib-resources>=1.4.0->jsonschema->AzureOpenAI) (3.17.0)\n",
            "Requirement already satisfied: certifi>=2017.4.17 in c:\\users\\twdav\\appdata\\local\\packages\\pythonsoftwarefoundation.python.3.8_qbz5n2kfra8p0\\localcache\\local-packages\\python38\\site-packages (from requests->AzureOpenAI) (2021.5.30)\n",
            "Requirement already satisfied: urllib3<1.27,>=1.21.1 in c:\\users\\twdav\\appdata\\local\\packages\\pythonsoftwarefoundation.python.3.8_qbz5n2kfra8p0\\localcache\\local-packages\\python38\\site-packages (from requests->AzureOpenAI) (1.25.11)\n",
            "Requirement already satisfied: chardet<5,>=3.0.2 in c:\\users\\twdav\\appdata\\local\\packages\\pythonsoftwarefoundation.python.3.8_qbz5n2kfra8p0\\localcache\\local-packages\\python38\\site-packages (from requests->AzureOpenAI) (4.0.0)\n",
            "Installing collected packages: rpds-py, attrs, referencing, multidict, importlib-resources, frozenlist, yarl, pkgutil-resolve-name, jsonschema-specifications, async-timeout, aiosignal, jsonschema, aiohttp, AzureOpenAI\n",
            "Successfully installed AzureOpenAI-0.0.1 aiohttp-3.9.1 aiosignal-1.3.1 async-timeout-4.0.3 attrs-23.2.0 frozenlist-1.4.1 importlib-resources-6.1.1 jsonschema-4.21.1 jsonschema-specifications-2023.12.1 multidict-6.0.4 pkgutil-resolve-name-1.3.10 referencing-0.32.1 rpds-py-0.17.1 yarl-1.9.4\n"
          ]
        },
        {
          "name": "stderr",
          "output_type": "stream",
          "text": [
            "WARNING: You are using pip version 21.1.3; however, version 23.3.2 is available.\n",
            "You should consider upgrading via the 'C:\\Users\\twdav\\AppData\\Local\\Microsoft\\WindowsApps\\PythonSoftwareFoundation.Python.3.8_qbz5n2kfra8p0\\python.exe -m pip install --upgrade pip' command.\n"
          ]
        }
      ],
      "source": [
        "# 環境配置\n",
        "!pip install AzureOpenAI"
      ]
    },
    {
      "cell_type": "code",
      "execution_count": 10,
      "metadata": {
        "id": "qxaUrPYmI3a4"
      },
      "outputs": [],
      "source": [
        "import os\n",
        "# 導入 AzureOpenAI\n",
        "from openai import AzureOpenAI\n",
        "\n",
        "# 設定變數 max_token\n",
        "my_max_tokens=200\n",
        "# API Key\n",
        "my_api_key=\"👉your_openai_api_key👈\"\n",
        "my_api_version=\"2023-12-01-preview\"\n",
        "my_azure_endpoint=\"https://👉your_openai_endpoint👈.openai.azure.com/\"\n",
        "my_deployment_name=\"👉your_deployment_name👈\""
      ]
    },
    {
      "cell_type": "code",
      "execution_count": 11,
      "metadata": {
        "colab": {
          "base_uri": "https://localhost:8080/"
        },
        "id": "8_xgAnRTJHdg",
        "outputId": "f823d20f-2389-4411-fde0-362980ca3885"
      },
      "outputs": [
        {
          "name": "stdout",
          "output_type": "stream",
          "text": [
            "人工智慧是一種模擬人類智慧的技術，通常是透過使用機器學習、自然語言處理和機器視覺等技術來實現的。人工智慧讓機器能夠像人類一樣進行理解、學習、推論、解決問題和創造等活動，並且能夠從大量數據中提煉有用的信息。人工智慧已經廣泛應用於各個領域，包括自動駕駛、語音識\n"
          ]
        }
      ],
      "source": [
        "\n",
        "# 設定 建立 OpenAI(配置Key)\n",
        "client = AzureOpenAI(\n",
        "    api_key=my_api_key,  \n",
        "    api_version=my_api_version,\n",
        "    azure_endpoint = my_azure_endpoint\n",
        ")\n",
        "\n",
        "# 使用 chat completion API\n",
        "chat_completion = client.chat.completions.create(\n",
        "    max_tokens=my_max_tokens,\n",
        "    messages=[\n",
        "        {\n",
        "            \"role\": \"user\",\n",
        "            \"content\": \"什麼是人工智慧?\", #詢問的問題\n",
        "        }\n",
        "    ],\n",
        "    model=my_deployment_name,\n",
        ")\n",
        "\n",
        "# 顯示回應\n",
        "print(chat_completion.choices[0].message.content)"
      ]
    }
  ],
  "metadata": {
    "colab": {
      "provenance": []
    },
    "kernelspec": {
      "display_name": "Python 3",
      "name": "python3"
    },
    "language_info": {
      "codemirror_mode": {
        "name": "ipython",
        "version": 3
      },
      "file_extension": ".py",
      "mimetype": "text/x-python",
      "name": "python",
      "nbconvert_exporter": "python",
      "pygments_lexer": "ipython3",
      "version": "3.8.10"
    }
  },
  "nbformat": 4,
  "nbformat_minor": 0
}
